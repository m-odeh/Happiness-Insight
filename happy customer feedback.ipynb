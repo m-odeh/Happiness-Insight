{
 "cells": [
  {
   "cell_type": "code",
   "execution_count": 1,
   "id": "11c5f4db-3fd9-4be7-90eb-f984c30b9ac6",
   "metadata": {},
   "outputs": [],
   "source": [
    "import numpy as np\n",
    "import pandas as pd\n",
    "import matplotlib.pyplot as plt\n",
    "import seaborn as sns\n",
    "import pickle\n",
    "import warnings\n",
    "warnings.filterwarnings('ignore')"
   ]
  },
  {
   "cell_type": "code",
   "execution_count": 2,
   "id": "bcb6b963-e089-4d5b-9b2d-14cbe4efd20b",
   "metadata": {},
   "outputs": [],
   "source": [
    "feedback=pd.read_csv(\"ACME-HappinessSurvey2020.csv\")"
   ]
  },
  {
   "cell_type": "code",
   "execution_count": 3,
   "id": "22d34ee7-cc9b-4703-926c-36a495930f80",
   "metadata": {},
   "outputs": [
    {
     "data": {
      "text/html": [
       "<div>\n",
       "<style scoped>\n",
       "    .dataframe tbody tr th:only-of-type {\n",
       "        vertical-align: middle;\n",
       "    }\n",
       "\n",
       "    .dataframe tbody tr th {\n",
       "        vertical-align: top;\n",
       "    }\n",
       "\n",
       "    .dataframe thead th {\n",
       "        text-align: right;\n",
       "    }\n",
       "</style>\n",
       "<table border=\"1\" class=\"dataframe\">\n",
       "  <thead>\n",
       "    <tr style=\"text-align: right;\">\n",
       "      <th></th>\n",
       "      <th>Y</th>\n",
       "      <th>X1</th>\n",
       "      <th>X2</th>\n",
       "      <th>X3</th>\n",
       "      <th>X4</th>\n",
       "      <th>X5</th>\n",
       "      <th>X6</th>\n",
       "    </tr>\n",
       "  </thead>\n",
       "  <tbody>\n",
       "    <tr>\n",
       "      <th>0</th>\n",
       "      <td>0</td>\n",
       "      <td>3</td>\n",
       "      <td>3</td>\n",
       "      <td>3</td>\n",
       "      <td>4</td>\n",
       "      <td>2</td>\n",
       "      <td>4</td>\n",
       "    </tr>\n",
       "    <tr>\n",
       "      <th>1</th>\n",
       "      <td>0</td>\n",
       "      <td>3</td>\n",
       "      <td>2</td>\n",
       "      <td>3</td>\n",
       "      <td>5</td>\n",
       "      <td>4</td>\n",
       "      <td>3</td>\n",
       "    </tr>\n",
       "    <tr>\n",
       "      <th>2</th>\n",
       "      <td>1</td>\n",
       "      <td>5</td>\n",
       "      <td>3</td>\n",
       "      <td>3</td>\n",
       "      <td>3</td>\n",
       "      <td>3</td>\n",
       "      <td>5</td>\n",
       "    </tr>\n",
       "    <tr>\n",
       "      <th>3</th>\n",
       "      <td>0</td>\n",
       "      <td>5</td>\n",
       "      <td>4</td>\n",
       "      <td>3</td>\n",
       "      <td>3</td>\n",
       "      <td>3</td>\n",
       "      <td>5</td>\n",
       "    </tr>\n",
       "    <tr>\n",
       "      <th>4</th>\n",
       "      <td>0</td>\n",
       "      <td>5</td>\n",
       "      <td>4</td>\n",
       "      <td>3</td>\n",
       "      <td>3</td>\n",
       "      <td>3</td>\n",
       "      <td>5</td>\n",
       "    </tr>\n",
       "    <tr>\n",
       "      <th>5</th>\n",
       "      <td>1</td>\n",
       "      <td>5</td>\n",
       "      <td>5</td>\n",
       "      <td>3</td>\n",
       "      <td>5</td>\n",
       "      <td>5</td>\n",
       "      <td>5</td>\n",
       "    </tr>\n",
       "    <tr>\n",
       "      <th>6</th>\n",
       "      <td>0</td>\n",
       "      <td>3</td>\n",
       "      <td>1</td>\n",
       "      <td>2</td>\n",
       "      <td>2</td>\n",
       "      <td>1</td>\n",
       "      <td>3</td>\n",
       "    </tr>\n",
       "    <tr>\n",
       "      <th>7</th>\n",
       "      <td>1</td>\n",
       "      <td>5</td>\n",
       "      <td>4</td>\n",
       "      <td>4</td>\n",
       "      <td>4</td>\n",
       "      <td>4</td>\n",
       "      <td>5</td>\n",
       "    </tr>\n",
       "    <tr>\n",
       "      <th>8</th>\n",
       "      <td>0</td>\n",
       "      <td>4</td>\n",
       "      <td>1</td>\n",
       "      <td>4</td>\n",
       "      <td>4</td>\n",
       "      <td>4</td>\n",
       "      <td>4</td>\n",
       "    </tr>\n",
       "    <tr>\n",
       "      <th>9</th>\n",
       "      <td>0</td>\n",
       "      <td>4</td>\n",
       "      <td>4</td>\n",
       "      <td>4</td>\n",
       "      <td>2</td>\n",
       "      <td>5</td>\n",
       "      <td>5</td>\n",
       "    </tr>\n",
       "  </tbody>\n",
       "</table>\n",
       "</div>"
      ],
      "text/plain": [
       "   Y  X1  X2  X3  X4  X5  X6\n",
       "0  0   3   3   3   4   2   4\n",
       "1  0   3   2   3   5   4   3\n",
       "2  1   5   3   3   3   3   5\n",
       "3  0   5   4   3   3   3   5\n",
       "4  0   5   4   3   3   3   5\n",
       "5  1   5   5   3   5   5   5\n",
       "6  0   3   1   2   2   1   3\n",
       "7  1   5   4   4   4   4   5\n",
       "8  0   4   1   4   4   4   4\n",
       "9  0   4   4   4   2   5   5"
      ]
     },
     "execution_count": 3,
     "metadata": {},
     "output_type": "execute_result"
    }
   ],
   "source": [
    "feedback.head(10)"
   ]
  },
  {
   "cell_type": "code",
   "execution_count": 4,
   "id": "0cc7592f-b845-4921-ab4a-a0bda4de1021",
   "metadata": {},
   "outputs": [],
   "source": [
    "#Rename columns \n",
    "feedback.columns=['Happy/Unhappy','On Time','As Expected','Ordered Everything','Good Price','Satisfied with courier','Easy App']"
   ]
  },
  {
   "cell_type": "code",
   "execution_count": 5,
   "id": "fd7f99cc-942b-4278-9f0f-757413347c89",
   "metadata": {},
   "outputs": [
    {
     "name": "stdout",
     "output_type": "stream",
     "text": [
      "<class 'pandas.core.frame.DataFrame'>\n",
      "RangeIndex: 126 entries, 0 to 125\n",
      "Data columns (total 7 columns):\n",
      " #   Column                  Non-Null Count  Dtype\n",
      "---  ------                  --------------  -----\n",
      " 0   Happy/Unhappy           126 non-null    int64\n",
      " 1   On Time                 126 non-null    int64\n",
      " 2   As Expected             126 non-null    int64\n",
      " 3   Ordered Everything      126 non-null    int64\n",
      " 4   Good Price              126 non-null    int64\n",
      " 5   Satisfied with courier  126 non-null    int64\n",
      " 6   Easy App                126 non-null    int64\n",
      "dtypes: int64(7)\n",
      "memory usage: 7.0 KB\n"
     ]
    }
   ],
   "source": [
    "feedback.info()"
   ]
  },
  {
   "cell_type": "code",
   "execution_count": 6,
   "id": "a89debd2-3a25-430b-bd7f-3ee22c0ab208",
   "metadata": {},
   "outputs": [
    {
     "data": {
      "text/html": [
       "<div>\n",
       "<style scoped>\n",
       "    .dataframe tbody tr th:only-of-type {\n",
       "        vertical-align: middle;\n",
       "    }\n",
       "\n",
       "    .dataframe tbody tr th {\n",
       "        vertical-align: top;\n",
       "    }\n",
       "\n",
       "    .dataframe thead th {\n",
       "        text-align: right;\n",
       "    }\n",
       "</style>\n",
       "<table border=\"1\" class=\"dataframe\">\n",
       "  <thead>\n",
       "    <tr style=\"text-align: right;\">\n",
       "      <th></th>\n",
       "      <th>Happy/Unhappy</th>\n",
       "      <th>On Time</th>\n",
       "      <th>As Expected</th>\n",
       "      <th>Ordered Everything</th>\n",
       "      <th>Good Price</th>\n",
       "      <th>Satisfied with courier</th>\n",
       "      <th>Easy App</th>\n",
       "    </tr>\n",
       "  </thead>\n",
       "  <tbody>\n",
       "    <tr>\n",
       "      <th>count</th>\n",
       "      <td>126.000000</td>\n",
       "      <td>126.000000</td>\n",
       "      <td>126.000000</td>\n",
       "      <td>126.000000</td>\n",
       "      <td>126.000000</td>\n",
       "      <td>126.000000</td>\n",
       "      <td>126.000000</td>\n",
       "    </tr>\n",
       "    <tr>\n",
       "      <th>mean</th>\n",
       "      <td>0.547619</td>\n",
       "      <td>4.333333</td>\n",
       "      <td>2.531746</td>\n",
       "      <td>3.309524</td>\n",
       "      <td>3.746032</td>\n",
       "      <td>3.650794</td>\n",
       "      <td>4.253968</td>\n",
       "    </tr>\n",
       "    <tr>\n",
       "      <th>std</th>\n",
       "      <td>0.499714</td>\n",
       "      <td>0.800000</td>\n",
       "      <td>1.114892</td>\n",
       "      <td>1.023440</td>\n",
       "      <td>0.875776</td>\n",
       "      <td>1.147641</td>\n",
       "      <td>0.809311</td>\n",
       "    </tr>\n",
       "    <tr>\n",
       "      <th>min</th>\n",
       "      <td>0.000000</td>\n",
       "      <td>1.000000</td>\n",
       "      <td>1.000000</td>\n",
       "      <td>1.000000</td>\n",
       "      <td>1.000000</td>\n",
       "      <td>1.000000</td>\n",
       "      <td>1.000000</td>\n",
       "    </tr>\n",
       "    <tr>\n",
       "      <th>25%</th>\n",
       "      <td>0.000000</td>\n",
       "      <td>4.000000</td>\n",
       "      <td>2.000000</td>\n",
       "      <td>3.000000</td>\n",
       "      <td>3.000000</td>\n",
       "      <td>3.000000</td>\n",
       "      <td>4.000000</td>\n",
       "    </tr>\n",
       "    <tr>\n",
       "      <th>50%</th>\n",
       "      <td>1.000000</td>\n",
       "      <td>5.000000</td>\n",
       "      <td>3.000000</td>\n",
       "      <td>3.000000</td>\n",
       "      <td>4.000000</td>\n",
       "      <td>4.000000</td>\n",
       "      <td>4.000000</td>\n",
       "    </tr>\n",
       "    <tr>\n",
       "      <th>75%</th>\n",
       "      <td>1.000000</td>\n",
       "      <td>5.000000</td>\n",
       "      <td>3.000000</td>\n",
       "      <td>4.000000</td>\n",
       "      <td>4.000000</td>\n",
       "      <td>4.000000</td>\n",
       "      <td>5.000000</td>\n",
       "    </tr>\n",
       "    <tr>\n",
       "      <th>max</th>\n",
       "      <td>1.000000</td>\n",
       "      <td>5.000000</td>\n",
       "      <td>5.000000</td>\n",
       "      <td>5.000000</td>\n",
       "      <td>5.000000</td>\n",
       "      <td>5.000000</td>\n",
       "      <td>5.000000</td>\n",
       "    </tr>\n",
       "  </tbody>\n",
       "</table>\n",
       "</div>"
      ],
      "text/plain": [
       "       Happy/Unhappy     On Time  As Expected  Ordered Everything  Good Price  \\\n",
       "count     126.000000  126.000000   126.000000          126.000000  126.000000   \n",
       "mean        0.547619    4.333333     2.531746            3.309524    3.746032   \n",
       "std         0.499714    0.800000     1.114892            1.023440    0.875776   \n",
       "min         0.000000    1.000000     1.000000            1.000000    1.000000   \n",
       "25%         0.000000    4.000000     2.000000            3.000000    3.000000   \n",
       "50%         1.000000    5.000000     3.000000            3.000000    4.000000   \n",
       "75%         1.000000    5.000000     3.000000            4.000000    4.000000   \n",
       "max         1.000000    5.000000     5.000000            5.000000    5.000000   \n",
       "\n",
       "       Satisfied with courier    Easy App  \n",
       "count              126.000000  126.000000  \n",
       "mean                 3.650794    4.253968  \n",
       "std                  1.147641    0.809311  \n",
       "min                  1.000000    1.000000  \n",
       "25%                  3.000000    4.000000  \n",
       "50%                  4.000000    4.000000  \n",
       "75%                  4.000000    5.000000  \n",
       "max                  5.000000    5.000000  "
      ]
     },
     "execution_count": 6,
     "metadata": {},
     "output_type": "execute_result"
    }
   ],
   "source": [
    "feedback.describe()"
   ]
  },
  {
   "cell_type": "code",
   "execution_count": 7,
   "id": "69f1d2e9-ede1-486c-b395-8d2e62aebd87",
   "metadata": {},
   "outputs": [
    {
     "data": {
      "text/plain": [
       "Happy/Unhappy             0\n",
       "On Time                   0\n",
       "As Expected               0\n",
       "Ordered Everything        0\n",
       "Good Price                0\n",
       "Satisfied with courier    0\n",
       "Easy App                  0\n",
       "dtype: int64"
      ]
     },
     "execution_count": 7,
     "metadata": {},
     "output_type": "execute_result"
    }
   ],
   "source": [
    "#check null value \n",
    "feedback.isnull().sum()"
   ]
  },
  {
   "cell_type": "code",
   "execution_count": 8,
   "id": "99a8445c-a6e3-4439-99be-f51f922b73b0",
   "metadata": {},
   "outputs": [],
   "source": [
    "#check each feature counts"
   ]
  },
  {
   "cell_type": "code",
   "execution_count": 9,
   "id": "689796c8-e7b8-4668-abc9-44b574b1502e",
   "metadata": {},
   "outputs": [
    {
     "data": {
      "text/plain": [
       "Happy/Unhappy\n",
       "1    69\n",
       "0    57\n",
       "Name: count, dtype: int64"
      ]
     },
     "execution_count": 9,
     "metadata": {},
     "output_type": "execute_result"
    }
   ],
   "source": [
    "feedback['Happy/Unhappy'].value_counts()"
   ]
  },
  {
   "cell_type": "code",
   "execution_count": 10,
   "id": "d0c76b8b-862f-49a8-a137-cbbb7122e0e6",
   "metadata": {},
   "outputs": [
    {
     "data": {
      "text/plain": [
       "On Time\n",
       "5    65\n",
       "4    40\n",
       "3    20\n",
       "1     1\n",
       "Name: count, dtype: int64"
      ]
     },
     "execution_count": 10,
     "metadata": {},
     "output_type": "execute_result"
    }
   ],
   "source": [
    "feedback['On Time'].value_counts()"
   ]
  },
  {
   "cell_type": "code",
   "execution_count": 11,
   "id": "9c3204c5-80fe-429f-8810-a0b688f19b94",
   "metadata": {},
   "outputs": [
    {
     "data": {
      "text/plain": [
       "As Expected\n",
       "3    42\n",
       "2    34\n",
       "1    27\n",
       "4    17\n",
       "5     6\n",
       "Name: count, dtype: int64"
      ]
     },
     "execution_count": 11,
     "metadata": {},
     "output_type": "execute_result"
    }
   ],
   "source": [
    "feedback['As Expected'].value_counts()"
   ]
  },
  {
   "cell_type": "code",
   "execution_count": 12,
   "id": "af0b0f5c-5f58-4d2d-9381-58f21706c8f6",
   "metadata": {},
   "outputs": [
    {
     "data": {
      "text/plain": [
       "Ordered Everything\n",
       "3    55\n",
       "4    33\n",
       "5    17\n",
       "2    14\n",
       "1     7\n",
       "Name: count, dtype: int64"
      ]
     },
     "execution_count": 12,
     "metadata": {},
     "output_type": "execute_result"
    }
   ],
   "source": [
    "feedback['Ordered Everything'].value_counts()"
   ]
  },
  {
   "cell_type": "code",
   "execution_count": 13,
   "id": "98ab392f-90a4-479d-8671-e4434d47dc19",
   "metadata": {},
   "outputs": [
    {
     "data": {
      "text/plain": [
       "Good Price\n",
       "4    53\n",
       "3    41\n",
       "5    25\n",
       "2     5\n",
       "1     2\n",
       "Name: count, dtype: int64"
      ]
     },
     "execution_count": 13,
     "metadata": {},
     "output_type": "execute_result"
    }
   ],
   "source": [
    "feedback['Good Price'].value_counts()"
   ]
  },
  {
   "cell_type": "code",
   "execution_count": 14,
   "id": "a0e21c66-4f74-4aab-a94a-01a8b87f7788",
   "metadata": {},
   "outputs": [
    {
     "data": {
      "text/plain": [
       "Satisfied with courier\n",
       "4    50\n",
       "5    31\n",
       "3    22\n",
       "2    16\n",
       "1     7\n",
       "Name: count, dtype: int64"
      ]
     },
     "execution_count": 14,
     "metadata": {},
     "output_type": "execute_result"
    }
   ],
   "source": [
    "feedback['Satisfied with courier'].value_counts()"
   ]
  },
  {
   "cell_type": "code",
   "execution_count": 15,
   "id": "b6b49860-d0b1-49c7-9255-5720f4c9a2ff",
   "metadata": {},
   "outputs": [
    {
     "data": {
      "text/plain": [
       "Easy App\n",
       "5    57\n",
       "4    47\n",
       "3    20\n",
       "2     1\n",
       "1     1\n",
       "Name: count, dtype: int64"
      ]
     },
     "execution_count": 15,
     "metadata": {},
     "output_type": "execute_result"
    }
   ],
   "source": [
    "feedback['Easy App'].value_counts()"
   ]
  },
  {
   "cell_type": "markdown",
   "id": "8d6cf5c1-8764-40b1-ad8a-d41d7d8016b8",
   "metadata": {},
   "source": [
    "## Data Visualization "
   ]
  },
  {
   "cell_type": "code",
   "execution_count": 16,
   "id": "59439cbd-de9f-4569-9c2e-b0d3df38a3fe",
   "metadata": {},
   "outputs": [
    {
     "data": {
      "text/plain": [
       "<Axes: xlabel='Happy/Unhappy', ylabel='count'>"
      ]
     },
     "execution_count": 16,
     "metadata": {},
     "output_type": "execute_result"
    },
    {
     "data": {
      "image/png": "[encoded data removed]",
      "text/plain": [
       "<Figure size 500x300 with 1 Axes>"
      ]
     },
     "metadata": {},
     "output_type": "display_data"
    }
   ],
   "source": [
    "# Plots : number of happy customers ; target y \n",
    "fig=plt.figure(figsize=(5,3))\n",
    "sns.countplot(x= feedback['Happy/Unhappy'],data = feedback)\n"
   ]
  },
  {
   "cell_type": "code",
   "execution_count": 17,
   "id": "4cc625fd-27e6-4a8a-90ed-de8408eb4e51",
   "metadata": {},
   "outputs": [
    {
     "data": {
      "image/png": "[encoded data removed]",
      "text/plain": [
       "<Figure size 1500x800 with 6 Axes>"
      ]
     },
     "metadata": {},
     "output_type": "display_data"
    }
   ],
   "source": [
    "# Create a 2x3 grid of subplots\n",
    "fig, ax = plt.subplots(2, 3, figsize=(15, 8))\n",
    "\n",
    "# Flatten the axes\n",
    "ax = ax.flatten()\n",
    "\n",
    "# Define the columns to plot\n",
    "columns_to_plot = ['On Time', 'As Expected', 'Ordered Everything', 'Good Price', 'Satisfied with courier', 'Easy App']\n",
    "\n",
    "# Loop through columns and create count plots\n",
    "for i, column in enumerate(columns_to_plot):\n",
    "    sns.countplot(data=feedback, x=feedback[column], ax=ax[i])\n",
    "    ax[i].set_title(f'Count plot for {column}')\n",
    "\n",
    "# Remove any empty subplots if needed\n",
    "for i in range(len(columns_to_plot), len(ax)):\n",
    "    fig.delaxes(ax[i])\n",
    "\n",
    "# Adjust the layout and display the plots\n",
    "plt.tight_layout()\n",
    "plt.show()\n"
   ]
  },
  {
   "cell_type": "code",
   "execution_count": 18,
   "id": "3f5dd5cf-ca6f-42b2-a60d-fa4540915f55",
   "metadata": {},
   "outputs": [
    {
     "data": {
      "text/plain": [
       "Happy/Unhappy\n",
       "1    69\n",
       "0    57\n",
       "Name: count, dtype: int64"
      ]
     },
     "execution_count": 18,
     "metadata": {},
     "output_type": "execute_result"
    }
   ],
   "source": [
    "quantity= feedback['Happy/Unhappy'].value_counts()\n",
    "quantity"
   ]
  },
  {
   "cell_type": "code",
   "execution_count": 19,
   "id": "2ba1fa4a-6b66-4c05-aece-fece41bf625a",
   "metadata": {},
   "outputs": [
    {
     "data": {
      "image/png": "[encoded data removed]",
      "text/plain": [
       "<Figure size 1000x500 with 2 Axes>"
      ]
     },
     "metadata": {},
     "output_type": "display_data"
    }
   ],
   "source": [
    "# correlation matrix \n",
    "corr_matrix=feedback.corr()\n",
    "fig=plt.figure(figsize=(10,5))\n",
    "\n",
    "sns.heatmap(corr_matrix,cmap='YlGnBu',square=True)\n",
    "plt.show()"
   ]
  },
  {
   "cell_type": "code",
   "execution_count": 20,
   "id": "d8a5080d-3a9e-4bad-8a87-5a03cc2fb0f2",
   "metadata": {},
   "outputs": [],
   "source": [
    "#tested dropping \"satisfied with courier since it has the highest corr with on time, accuracy on different models was worse"
   ]
  },
  {
   "cell_type": "code",
   "execution_count": 21,
   "id": "f68d54d9-c384-4cce-8dff-a3c724082b73",
   "metadata": {},
   "outputs": [],
   "source": [
    "#test creating new feature: on time + satisfied with courier \n",
    "#df=pd.DataFrame()\n",
    "#df['on time']=feedback['On Time']\n",
    "#df['courier']=feedback['Satisfied with courier']\n",
    "#df['satisfaction']=df.mean(axis=1)\n",
    "#feedback['Satisfaction']=df['satisfaction']  #Average on time and courier satisfaction into 1 column; accuracy accross models dropped "
   ]
  },
  {
   "cell_type": "code",
   "execution_count": null,
   "id": "0810bbe3-7984-4991-86be-327abe33d3bf",
   "metadata": {},
   "outputs": [],
   "source": []
  },
  {
   "cell_type": "markdown",
   "id": "a47e314f-c9eb-4597-a21c-9a9ab1317b3e",
   "metadata": {},
   "source": [
    "## Model Building"
   ]
  },
  {
   "cell_type": "code",
   "execution_count": 22,
   "id": "131c3902-4cc5-48e8-9850-22e75fe24bb8",
   "metadata": {},
   "outputs": [],
   "source": [
    "from sklearn.model_selection import train_test_split\n",
    "from sklearn import metrics\n",
    "from sklearn import svm\n",
    "from sklearn.tree import DecisionTreeClassifier \n",
    "from sklearn.neighbors import KNeighborsClassifier\n",
    "from sklearn import linear_model\n",
    "from sklearn.ensemble import RandomForestClassifier\n",
    "from sklearn.preprocessing import StandardScaler\n",
    "from sklearn.model_selection import GridSearchCV\n",
    "from sklearn.metrics import classification_report, confusion_matrix\n"
   ]
  },
  {
   "cell_type": "markdown",
   "id": "c7f7bedb-656c-47f6-af34-32203e4c38f4",
   "metadata": {},
   "source": [
    "#### Testing Base Models Without Any Modifications On Data"
   ]
  },
  {
   "cell_type": "code",
   "execution_count": 23,
   "id": "07b352e2-2849-43e0-868d-3297cb39caf9",
   "metadata": {},
   "outputs": [],
   "source": [
    "# preparing the data \n",
    "x=feedback.drop(['Happy/Unhappy'], axis=1)\n",
    "y=feedback['Happy/Unhappy'] \n",
    "X_train, X_test, y_train, y_test = train_test_split(x,y,test_size=0.15,random_state=0) # 70% training and 30% test\n"
   ]
  },
  {
   "cell_type": "code",
   "execution_count": 24,
   "id": "d9c7a830-bc46-4fe7-9933-65fe60a75680",
   "metadata": {},
   "outputs": [
    {
     "name": "stdout",
     "output_type": "stream",
     "text": [
      "Accuracy: 0.7368421052631579\n",
      "F1 Score: 0.761904761904762\n"
     ]
    }
   ],
   "source": [
    "#Create a svm Classifier\n",
    "clf = svm.SVC(kernel='linear',random_state=1) # Linear Kernel\n",
    "clf.fit(X_train, y_train)\n",
    "y_pred = clf.predict(X_test)\n",
    "print(\"Accuracy:\",metrics.accuracy_score(y_test, y_pred))\n",
    "print(\"F1 Score:\",metrics.f1_score(y_test, y_pred))"
   ]
  },
  {
   "cell_type": "code",
   "execution_count": 25,
   "id": "8bed79b2-12e3-4034-8031-467c45583454",
   "metadata": {},
   "outputs": [
    {
     "name": "stdout",
     "output_type": "stream",
     "text": [
      "Accuracy: 0.47368421052631576\n",
      "F1 Score: 0.5\n"
     ]
    }
   ],
   "source": [
    "# Create Decision Tree classifer object\n",
    "clf = DecisionTreeClassifier()\n",
    "clf = clf.fit(X_train,y_train)\n",
    "y_pred = clf.predict(X_test)\n",
    "print(\"Accuracy:\",metrics.accuracy_score(y_test, y_pred))\n",
    "print(\"F1 Score:\",metrics.f1_score(y_test, y_pred))"
   ]
  },
  {
   "cell_type": "code",
   "execution_count": 26,
   "id": "66554bd0-eaed-4b75-b1df-b56ffd29d430",
   "metadata": {},
   "outputs": [
    {
     "name": "stdout",
     "output_type": "stream",
     "text": [
      "Accuracy: 0.5789473684210527\n",
      "F1 Score: 0.6363636363636365\n"
     ]
    }
   ],
   "source": [
    "#create log regression\n",
    "logr = linear_model.LogisticRegression()\n",
    "logr.fit(X_train,y_train)\n",
    "y_pred = logr.predict(X_test)\n",
    "print(\"Accuracy:\",metrics.accuracy_score(y_test, y_pred))\n",
    "print(\"F1 Score:\",metrics.f1_score(y_test, y_pred))"
   ]
  },
  {
   "cell_type": "code",
   "execution_count": 27,
   "id": "81694196-e7a6-4bc3-9274-3ca6c838fe64",
   "metadata": {},
   "outputs": [
    {
     "name": "stdout",
     "output_type": "stream",
     "text": [
      "Accuracy: 0.47368421052631576\n",
      "F1 Score: 0.5\n"
     ]
    }
   ],
   "source": [
    "#create Random Fores model\n",
    "rf = RandomForestClassifier()\n",
    "rf.fit(X_train, y_train)\n",
    "y_pred = rf.predict(X_test)\n",
    "print(\"Accuracy:\",metrics.accuracy_score(y_test, y_pred))\n",
    "print(\"F1 Score:\",metrics.f1_score(y_test, y_pred))"
   ]
  },
  {
   "cell_type": "code",
   "execution_count": 28,
   "id": "c17db8a9-6ecb-40cc-a808-21c918bd045d",
   "metadata": {},
   "outputs": [],
   "source": [
    "# for KNN, its better to scale the data since its distance based algorithm"
   ]
  },
  {
   "cell_type": "code",
   "execution_count": 29,
   "id": "b41a7ed8-9312-402b-8218-c3e5d847dff5",
   "metadata": {},
   "outputs": [],
   "source": [
    "# Initialise the Scaler\n",
    "scaler = StandardScaler()\n",
    " \n",
    "# To scale data66\n",
    "scaled_x=scaler.fit_transform(x)\n",
    "\n",
    "X_train1, X_test1, y_train1, y_test1 = train_test_split(scaled_x,y,test_size=0.15,random_state=0) # 70% training and 30% test\n"
   ]
  },
  {
   "cell_type": "code",
   "execution_count": 30,
   "id": "7523283b-fc3d-4c31-8241-bcf173d8e0c8",
   "metadata": {},
   "outputs": [
    {
     "name": "stdout",
     "output_type": "stream",
     "text": [
      "Accuracy: 0.5789473684210527\n",
      "F1 Score: 0.5\n"
     ]
    }
   ],
   "source": [
    "#create KNN model\n",
    "\n",
    "knn_model = KNeighborsClassifier(n_neighbors=2)\n",
    "knn_model.fit(X_train, y_train)\n",
    "y_pred = knn_model.predict(X_test)\n",
    "print(\"Accuracy:\",metrics.accuracy_score(y_test, y_pred))\n",
    "print(\"F1 Score:\",metrics.f1_score(y_test, y_pred))"
   ]
  },
  {
   "cell_type": "code",
   "execution_count": null,
   "id": "aa46194c-8865-4bde-ba2b-7b3e4317fa45",
   "metadata": {},
   "outputs": [],
   "source": []
  },
  {
   "cell_type": "markdown",
   "id": "c1e9e824-affb-4835-8617-fad349ed0fa2",
   "metadata": {},
   "source": [
    "#### Testing Adding new feature to feedback "
   ]
  },
  {
   "cell_type": "code",
   "execution_count": 31,
   "id": "d183d194-f9d4-4047-8693-677024d6e43a",
   "metadata": {},
   "outputs": [],
   "source": [
    "feedback['Satisfaction'] = feedback.drop(['Happy/Unhappy'], axis=1).mean(axis=1) # average all features "
   ]
  },
  {
   "cell_type": "code",
   "execution_count": 32,
   "id": "24135aaa-8523-4a66-b930-bbe43f968ad8",
   "metadata": {},
   "outputs": [],
   "source": [
    "# preparing the data \n",
    "x1=feedback.drop(['Happy/Unhappy'], axis=1)\n",
    "y1=feedback['Happy/Unhappy'] \n"
   ]
  },
  {
   "cell_type": "code",
   "execution_count": 33,
   "id": "1624ca6e-5a58-437a-a339-36d597738652",
   "metadata": {},
   "outputs": [],
   "source": [
    "X_train, X_test, y_train, y_test = train_test_split(x1,y1,test_size=0.15,random_state=0) # 70% training and 30% test"
   ]
  },
  {
   "cell_type": "code",
   "execution_count": 34,
   "id": "d11e1c03-1e2b-4b34-ab52-7d7f41644be3",
   "metadata": {},
   "outputs": [
    {
     "name": "stdout",
     "output_type": "stream",
     "text": [
      "Accuracy: 0.7894736842105263\n",
      "F1 Score: 0.8000000000000002\n"
     ]
    }
   ],
   "source": [
    "#Create a svm Classifier\n",
    "clf = svm.SVC(kernel='linear',random_state=1) # Linear Kernel\n",
    "clf.fit(X_train, y_train)\n",
    "y_pred = clf.predict(X_test)\n",
    "print(\"Accuracy:\",metrics.accuracy_score(y_test, y_pred))\n",
    "print(\"F1 Score:\",metrics.f1_score(y_test, y_pred))"
   ]
  },
  {
   "cell_type": "code",
   "execution_count": 35,
   "id": "3b7d6b42-6cfb-4bb9-863f-db4de1ccc797",
   "metadata": {},
   "outputs": [
    {
     "name": "stdout",
     "output_type": "stream",
     "text": [
      "Accuracy: 0.631578947368421\n",
      "F1 Score: 0.6666666666666666\n"
     ]
    }
   ],
   "source": [
    "# Create Decision Tree classifer object\n",
    "clf = DecisionTreeClassifier(random_state=1)\n",
    "clf = clf.fit(X_train,y_train)\n",
    "y_pred = clf.predict(X_test)\n",
    "print(\"Accuracy:\",metrics.accuracy_score(y_test, y_pred))\n",
    "print(\"F1 Score:\",metrics.f1_score(y_test, y_pred))"
   ]
  },
  {
   "cell_type": "code",
   "execution_count": 36,
   "id": "7faea7a1-1e3c-4320-9648-295880c036bf",
   "metadata": {},
   "outputs": [
    {
     "name": "stdout",
     "output_type": "stream",
     "text": [
      "Accuracy: 0.5789473684210527\n",
      "F1 Score: 0.6363636363636365\n"
     ]
    }
   ],
   "source": [
    "#create log regression\n",
    "logr = linear_model.LogisticRegression(random_state=1)\n",
    "logr.fit(X_train,y_train)\n",
    "y_pred = logr.predict(X_test)\n",
    "print(\"Accuracy:\",metrics.accuracy_score(y_test, y_pred))\n",
    "print(\"F1 Score:\",metrics.f1_score(y_test, y_pred))"
   ]
  },
  {
   "cell_type": "code",
   "execution_count": 37,
   "id": "e4d1f36b-3eb6-43f5-a4b9-fa5897c7f383",
   "metadata": {},
   "outputs": [
    {
     "name": "stdout",
     "output_type": "stream",
     "text": [
      "Accuracy: 0.5789473684210527\n",
      "F1 Score: 0.6363636363636365\n"
     ]
    }
   ],
   "source": [
    "#create Random Fores model\n",
    "rf = RandomForestClassifier(random_state=1)\n",
    "rf.fit(X_train, y_train)\n",
    "y_pred = rf.predict(X_test)\n",
    "print(\"Accuracy:\",metrics.accuracy_score(y_test, y_pred))\n",
    "print(\"F1 Score:\",metrics.f1_score(y_test, y_pred))"
   ]
  },
  {
   "cell_type": "code",
   "execution_count": 38,
   "id": "e4e78a80-2cd6-4292-987f-bb0282e54f9f",
   "metadata": {},
   "outputs": [],
   "source": [
    "# Initialise the Scaler\n",
    "scaler = StandardScaler()\n",
    " \n",
    "# To scale data66\n",
    "scaled_x=scaler.fit_transform(x1)\n",
    "\n",
    "X_train1, X_test1, y_train1, y_test1 = train_test_split(scaled_x,y1,test_size=0.15,random_state=0) # 70% training and 30% test\n"
   ]
  },
  {
   "cell_type": "code",
   "execution_count": 40,
   "id": "aedd091d-e894-4160-aeae-da174a7e3173",
   "metadata": {},
   "outputs": [
    {
     "name": "stdout",
     "output_type": "stream",
     "text": [
      "Accuracy: 0.3684210526315789\n",
      "F1 Score: 0.45454545454545453\n"
     ]
    }
   ],
   "source": [
    "#create KNN model\n",
    "knn_model = KNeighborsClassifier()\n",
    "knn_model.fit(X_train1, y_train1)\n",
    "y_pred = knn_model.predict(X_test1)\n",
    "print(\"Accuracy:\",metrics.accuracy_score(y_test1, y_pred))\n",
    "print(\"F1 Score:\",metrics.f1_score(y_test1, y_pred))"
   ]
  },
  {
   "cell_type": "code",
   "execution_count": 41,
   "id": "a058dc3a-32f6-45f1-ad1a-ed923ee2ac01",
   "metadata": {},
   "outputs": [],
   "source": [
    "# Adding New feature \" Satisfaction \" Improved the accuracy and f1 score of the models "
   ]
  },
  {
   "cell_type": "markdown",
   "id": "f04290b5-d061-4c9b-8c62-0644e570f780",
   "metadata": {},
   "source": [
    "### Hyperparameter Tuning Using GridSearch "
   ]
  },
  {
   "cell_type": "markdown",
   "id": "8ddb365b-9ffd-4451-93e0-85564190490c",
   "metadata": {},
   "source": [
    "### SVM GridSearch"
   ]
  },
  {
   "cell_type": "code",
   "execution_count": 42,
   "id": "9c3e9150-48f3-4751-9852-b3df3da248da",
   "metadata": {},
   "outputs": [],
   "source": [
    "# Data Frame to save the final accuracy and f1 score of each model \n",
    "final_score=pd.DataFrame(columns=['Model','Accuracy','F1 Score'])\n",
    "                         "
   ]
  },
  {
   "cell_type": "code",
   "execution_count": 43,
   "id": "68d79f00-fc29-4625-aaf3-f0cf11eda75d",
   "metadata": {},
   "outputs": [
    {
     "name": "stdout",
     "output_type": "stream",
     "text": [
      "Best Parameters: {'gamma': 'scale', 'kernel': 'linear'}\n",
      "Accuracy: 0.7894736842105263\n",
      "F1 Score: 0.8000000000000002\n"
     ]
    }
   ],
   "source": [
    "# Create a parameter grid to search over\n",
    "param_grid = {\n",
    "    #'C': [0.1,0.5,1, 10],  # Regularization parameter\n",
    "    'kernel': ['linear'],  # Kernel type\n",
    "    'gamma': ['scale', 'auto', 0.001, 0.01, 0.1, 0.2,0.3,0.4,0.5,1] }  # Kernel coefficient for 'rbf' kernel\n",
    "\n",
    "# Create an SVM classifier\n",
    "clf = svm.SVC(random_state=1)\n",
    "\n",
    "# Create a GridSearchCV object with the classifier and parameter grid\n",
    "grid_search = GridSearchCV(clf, param_grid, cv=5, scoring='accuracy')\n",
    "\n",
    "# Fit the GridSearchCV to your data\n",
    "grid_search.fit(X_train, y_train)\n",
    "\n",
    "# Get the best parameters and best estimator from the grid search\n",
    "best_params = grid_search.best_params_\n",
    "best_estimator = grid_search.best_estimator_\n",
    "\n",
    "# Use the best estimator for predictions\n",
    "y_pred_grid = best_estimator.predict(X_test)\n",
    "\n",
    "Accuracy= metrics.accuracy_score(y_test, y_pred_grid)\n",
    "F1_score= metrics.f1_score(y_test, y_pred_grid)\n",
    "# Print the best parameters, accuracy, and F1 score\n",
    "print(\"Best Parameters:\", best_params)\n",
    "print(\"Accuracy:\", Accuracy)\n",
    "print(\"F1 Score:\", F1_score)\n",
    "\n",
    "final_score.loc[0]= ['SVM',Accuracy, F1_score]\n"
   ]
  },
  {
   "cell_type": "markdown",
   "id": "2d5fcef6-eb37-4b30-a69e-caa4c416225b",
   "metadata": {},
   "source": [
    "#### Decision Tree GridSearch"
   ]
  },
  {
   "cell_type": "code",
   "execution_count": 44,
   "id": "506f6c70-7975-43b7-8e0b-052f4fe01408",
   "metadata": {},
   "outputs": [
    {
     "name": "stdout",
     "output_type": "stream",
     "text": [
      "Best Parameters: {'criterion': 'gini', 'max_depth': 9, 'max_features': 'sqrt', 'min_samples_leaf': 2, 'min_samples_split': 5, 'splitter': 'random'}\n",
      "Accuracy: 0.631578947368421\n",
      "F1 Score: 0.6666666666666666\n"
     ]
    }
   ],
   "source": [
    "# Create a parameter grid to search over\n",
    "param_grid = {\n",
    "    'criterion': ['entropy', 'gini', 'log_loss'],  # criterion; quality of split\n",
    "    'splitter': ['best','random'],  # strategy .... split at each node\n",
    "    'max_depth':[None,4,5,6,7,8,9,10,11,12,15,20,30,40,50,70,90,120,150], # maximum depth of the tree\n",
    "    'min_samples_split':np.arange(2, 10),\n",
    "    'min_samples_leaf':np.arange(1, 5),\n",
    "    'max_features':['auto', 'sqrt', 'log2']\n",
    "}  \n",
    "\n",
    "# Create an Decision Tree classifier\n",
    "clf = DecisionTreeClassifier(random_state=1)\n",
    "\n",
    "# Create a GridSearchCV object with the classifier and parameter grid\n",
    "grid_search = GridSearchCV(clf, param_grid, cv=5, scoring='accuracy')\n",
    "\n",
    "# Fit the GridSearchCV to your data\n",
    "grid_search.fit(X_train, y_train)\n",
    "\n",
    "# Get the best parameters and best estimator from the grid search\n",
    "best_params = grid_search.best_params_\n",
    "best_estimator = grid_search.best_estimator_\n",
    "\n",
    "# Use the best estimator for predictions\n",
    "y_pred_grid = best_estimator.predict(X_test)\n",
    "\n",
    "Accuracy= metrics.accuracy_score(y_test, y_pred_grid)\n",
    "F1_score= metrics.f1_score(y_test, y_pred_grid)\n",
    "# Print the best parameters, accuracy, and F1 score\n",
    "print(\"Best Parameters:\", best_params)\n",
    "print(\"Accuracy:\", Accuracy)\n",
    "print(\"F1 Score:\", F1_score)\n",
    "\n",
    "final_score.loc[1]= ['Decision Tree',Accuracy, F1_score]\n"
   ]
  },
  {
   "cell_type": "markdown",
   "id": "61965260-a101-477c-9f28-5b99c8ac1b8b",
   "metadata": {},
   "source": [
    "### log regression GridSearch"
   ]
  },
  {
   "cell_type": "code",
   "execution_count": 45,
   "id": "009ea1c7-3af7-4901-a8df-fd8b2b89947b",
   "metadata": {},
   "outputs": [
    {
     "name": "stdout",
     "output_type": "stream",
     "text": [
      "Best Parameters: {'C': 0.1, 'penalty': 'l2'}\n",
      "Accuracy: 0.5789473684210527\n",
      "F1 Score: 0.6363636363636365\n"
     ]
    }
   ],
   "source": [
    "# Create a parameter grid to search over\n",
    "param_grid = {\n",
    "    'penalty': ['l1', 'l2', 'elasticnet'],  # \n",
    "    'C': np.arange(0.1, 10,0.1)\n",
    "}  \n",
    "\n",
    "# Create an Logistic Regression classifier\n",
    "clf = linear_model.LogisticRegression(random_state=1)\n",
    "\n",
    "# Create a GridSearchCV object with the classifier and parameter grid\n",
    "grid_search = GridSearchCV(clf, param_grid, cv=5, scoring='accuracy')\n",
    "\n",
    "# Fit the GridSearchCV to your data\n",
    "grid_search.fit(X_train, y_train)\n",
    "\n",
    "# Get the best parameters and best estimator from the grid search\n",
    "best_params = grid_search.best_params_\n",
    "best_estimator = grid_search.best_estimator_\n",
    "\n",
    "# Use the best estimator for predictions\n",
    "y_pred_grid = best_estimator.predict(X_test)\n",
    "\n",
    "Accuracy= metrics.accuracy_score(y_test, y_pred_grid)\n",
    "F1_score= metrics.f1_score(y_test, y_pred_grid)\n",
    "# Print the best parameters, accuracy, and F1 score\n",
    "print(\"Best Parameters:\", best_params)\n",
    "print(\"Accuracy:\", Accuracy)\n",
    "print(\"F1 Score:\", F1_score)\n",
    "\n",
    "final_score.loc[2]= ['Logistic Regression',Accuracy, F1_score]\n"
   ]
  },
  {
   "cell_type": "markdown",
   "id": "09551cb1-9cb7-4e6b-b7e3-f95b8974d1ec",
   "metadata": {},
   "source": [
    "### Random Forest GridSearch"
   ]
  },
  {
   "cell_type": "code",
   "execution_count": 46,
   "id": "9cb034e3-0274-42b5-a128-9058f07519cb",
   "metadata": {},
   "outputs": [
    {
     "name": "stdout",
     "output_type": "stream",
     "text": [
      "Best Parameters: {'max_depth': 11, 'n_estimators': 50}\n",
      "Accuracy: 0.5263157894736842\n",
      "F1 Score: 0.5714285714285713\n"
     ]
    }
   ],
   "source": [
    "# Create a parameter grid to search over\n",
    "param_grid = {\n",
    "    'n_estimators': np.arange(10,100,10),  # \n",
    "    #'criterion': ['gini','entropy','log_loss'],\n",
    "    'max_depth': [None,4,5,6,7,8,9,10,11,12,15,20,30,40,50,70,90,120,150] # maximum depth of the tree ,\n",
    "    #'min_samples_split': np.arange(2, 10) ,\n",
    "    #'min_samples_leaf':  np.arange(2, 5),\n",
    "    #'max_features':['auto', 'sqrt', 'log2']\n",
    "}  \n",
    "\n",
    "# Create an Random Forest classifier\n",
    "clf = RandomForestClassifier(random_state=1)\n",
    "\n",
    "# Create a GridSearchCV object with the classifier and parameter grid\n",
    "grid_search = GridSearchCV(clf, param_grid, cv=5, scoring='accuracy')\n",
    "\n",
    "# Fit the GridSearchCV to your data\n",
    "grid_search.fit(X_train, y_train)\n",
    "\n",
    "# Get the best parameters and best estimator from the grid search\n",
    "best_params = grid_search.best_params_\n",
    "best_estimator = grid_search.best_estimator_\n",
    "\n",
    "# Use the best estimator for predictions\n",
    "y_pred_grid = best_estimator.predict(X_test)\n",
    "\n",
    "Accuracy= metrics.accuracy_score(y_test, y_pred_grid)\n",
    "F1_score= metrics.f1_score(y_test, y_pred_grid)\n",
    "# Print the best parameters, accuracy, and F1 score\n",
    "print(\"Best Parameters:\", best_params)\n",
    "print(\"Accuracy:\", Accuracy)\n",
    "print(\"F1 Score:\", F1_score)\n",
    "\n",
    "final_score.loc[3]= ['Random Forest',Accuracy, F1_score]\n"
   ]
  },
  {
   "cell_type": "markdown",
   "id": "0a4df933-7d5f-4340-9a69-be895002ceea",
   "metadata": {},
   "source": [
    "### KNN GridSearch"
   ]
  },
  {
   "cell_type": "code",
   "execution_count": 47,
   "id": "23db282e-525e-4494-8db8-509810054384",
   "metadata": {},
   "outputs": [],
   "source": [
    "# Initialise the Scaler\n",
    "scaler = StandardScaler()\n",
    " \n",
    "# To scale data66\n",
    "scaled_x=scaler.fit_transform(x)\n",
    "\n",
    "X_train, X_test, y_train, y_test = train_test_split(scaled_x,y,test_size=0.15,random_state=0) # 70% training and 30% test\n"
   ]
  },
  {
   "cell_type": "code",
   "execution_count": 48,
   "id": "28f40ddf-4c13-4753-9d6e-4e13047ad9ab",
   "metadata": {},
   "outputs": [
    {
     "name": "stdout",
     "output_type": "stream",
     "text": [
      "Best Parameters: {'n_neighbors': 5}\n",
      "Accuracy: 0.47368421052631576\n",
      "F1 Score: 0.5454545454545454\n"
     ]
    }
   ],
   "source": [
    "# Create a parameter grid to search over\n",
    "param_grid = {\n",
    "    'n_neighbors':np.arange(2,20)\n",
    "}  \n",
    "\n",
    "# Create an KNN classifier\n",
    "clf = KNeighborsClassifier() \n",
    "\n",
    "\n",
    "# Create a GridSearchCV object with the classifier and parameter grid\n",
    "grid_search = GridSearchCV(clf, param_grid, cv=5, scoring='accuracy')\n",
    "\n",
    "# Fit the GridSearchCV to your data\n",
    "grid_search.fit(X_train, y_train)\n",
    "\n",
    "# Get the best parameters and best estimator from the grid search\n",
    "best_params = grid_search.best_params_\n",
    "best_estimator = grid_search.best_estimator_\n",
    "\n",
    "# Use the best estimator for predictions\n",
    "y_pred_grid = best_estimator.predict(X_test)\n",
    "\n",
    "Accuracy= metrics.accuracy_score(y_test, y_pred_grid)\n",
    "F1_score= metrics.f1_score(y_test, y_pred_grid)\n",
    "# Print the best parameters, accuracy, and F1 score\n",
    "print(\"Best Parameters:\", best_params)\n",
    "print(\"Accuracy:\", Accuracy)\n",
    "print(\"F1 Score:\", F1_score)\n",
    "\n",
    "final_score.loc[4]= ['KNN',Accuracy, F1_score]\n"
   ]
  },
  {
   "cell_type": "code",
   "execution_count": 49,
   "id": "af61c2b8-f84c-4445-bd3a-62ed5a377d48",
   "metadata": {},
   "outputs": [
    {
     "data": {
      "text/html": [
       "<div>\n",
       "<style scoped>\n",
       "    .dataframe tbody tr th:only-of-type {\n",
       "        vertical-align: middle;\n",
       "    }\n",
       "\n",
       "    .dataframe tbody tr th {\n",
       "        vertical-align: top;\n",
       "    }\n",
       "\n",
       "    .dataframe thead th {\n",
       "        text-align: right;\n",
       "    }\n",
       "</style>\n",
       "<table border=\"1\" class=\"dataframe\">\n",
       "  <thead>\n",
       "    <tr style=\"text-align: right;\">\n",
       "      <th></th>\n",
       "      <th>Model</th>\n",
       "      <th>Accuracy</th>\n",
       "      <th>F1 Score</th>\n",
       "    </tr>\n",
       "  </thead>\n",
       "  <tbody>\n",
       "    <tr>\n",
       "      <th>0</th>\n",
       "      <td>SVM</td>\n",
       "      <td>0.789474</td>\n",
       "      <td>0.800000</td>\n",
       "    </tr>\n",
       "    <tr>\n",
       "      <th>1</th>\n",
       "      <td>Decision Tree</td>\n",
       "      <td>0.631579</td>\n",
       "      <td>0.666667</td>\n",
       "    </tr>\n",
       "    <tr>\n",
       "      <th>2</th>\n",
       "      <td>Logistic Regression</td>\n",
       "      <td>0.578947</td>\n",
       "      <td>0.636364</td>\n",
       "    </tr>\n",
       "    <tr>\n",
       "      <th>3</th>\n",
       "      <td>Random Forest</td>\n",
       "      <td>0.526316</td>\n",
       "      <td>0.571429</td>\n",
       "    </tr>\n",
       "    <tr>\n",
       "      <th>4</th>\n",
       "      <td>KNN</td>\n",
       "      <td>0.473684</td>\n",
       "      <td>0.545455</td>\n",
       "    </tr>\n",
       "  </tbody>\n",
       "</table>\n",
       "</div>"
      ],
      "text/plain": [
       "                 Model  Accuracy  F1 Score\n",
       "0                  SVM  0.789474  0.800000\n",
       "1        Decision Tree  0.631579  0.666667\n",
       "2  Logistic Regression  0.578947  0.636364\n",
       "3        Random Forest  0.526316  0.571429\n",
       "4                  KNN  0.473684  0.545455"
      ]
     },
     "execution_count": 49,
     "metadata": {},
     "output_type": "execute_result"
    }
   ],
   "source": [
    "final_score"
   ]
  },
  {
   "cell_type": "markdown",
   "id": "27c91709-36b0-46d0-8929-a98192f0fefe",
   "metadata": {},
   "source": [
    "# Result/Accuracy Report"
   ]
  },
  {
   "cell_type": "code",
   "execution_count": 50,
   "id": "e949a78a-cbbc-4e8d-ba38-5982f95d0118",
   "metadata": {},
   "outputs": [],
   "source": [
    "# preparing the data \n",
    "x=feedback.drop(['Happy/Unhappy'], axis=1)\n",
    "y=feedback['Happy/Unhappy'] \n",
    "X_train, X_test, y_train, y_test = train_test_split(x,y,test_size=0.15,random_state=0) # 70% training and 30% test\n"
   ]
  },
  {
   "cell_type": "code",
   "execution_count": 51,
   "id": "7d57d523-d29b-4e94-aab2-0dd8f06ff242",
   "metadata": {},
   "outputs": [
    {
     "name": "stdout",
     "output_type": "stream",
     "text": [
      "Accuracy: 0.7894736842105263\n",
      "F1 Score: 0.8000000000000002\n"
     ]
    }
   ],
   "source": [
    "#Create a svm Classifier; best model\n",
    "clf = svm.SVC(kernel='linear',C = 1,gamma = 'scale' ,random_state=10) # Linear Kernel\n",
    "clf.fit(X_train, y_train)\n",
    "y_pred = clf.predict(X_test)\n",
    "print(\"Accuracy:\",metrics.accuracy_score(y_test, y_pred))\n",
    "print(\"F1 Score:\",metrics.f1_score(y_test, y_pred))"
   ]
  },
  {
   "cell_type": "code",
   "execution_count": 52,
   "id": "79baa806-4aa7-408b-a37b-f41076cfa45c",
   "metadata": {},
   "outputs": [
    {
     "name": "stdout",
     "output_type": "stream",
     "text": [
      "              precision    recall  f1-score   support\n",
      "\n",
      "           0       0.78      0.78      0.78         9\n",
      "           1       0.80      0.80      0.80        10\n",
      "\n",
      "    accuracy                           0.79        19\n",
      "   macro avg       0.79      0.79      0.79        19\n",
      "weighted avg       0.79      0.79      0.79        19\n",
      "\n"
     ]
    }
   ],
   "source": [
    "print(classification_report(y_test, y_pred))"
   ]
  },
  {
   "cell_type": "code",
   "execution_count": 53,
   "id": "fde2e523-61b4-4f81-9749-91019d9674da",
   "metadata": {},
   "outputs": [],
   "source": [
    "confusion_matrix = metrics.confusion_matrix(y_test,y_pred)"
   ]
  },
  {
   "cell_type": "code",
   "execution_count": 54,
   "id": "ed82acfc-9bd0-4b6c-8c69-c4c4d5fb4381",
   "metadata": {},
   "outputs": [
    {
     "data": {
      "text/plain": [
       "array([[7, 2],\n",
       "       [2, 8]], dtype=int64)"
      ]
     },
     "execution_count": 54,
     "metadata": {},
     "output_type": "execute_result"
    }
   ],
   "source": [
    "confusion_matrix"
   ]
  },
  {
   "cell_type": "code",
   "execution_count": 55,
   "id": "0327cf05-73bd-4534-aadb-43b5726656ae",
   "metadata": {},
   "outputs": [],
   "source": [
    "cm_display = metrics.ConfusionMatrixDisplay(confusion_matrix = confusion_matrix, display_labels = [0, 1])"
   ]
  },
  {
   "cell_type": "code",
   "execution_count": 56,
   "id": "30da93bd-3c41-4e74-8ace-c174c9d65d97",
   "metadata": {},
   "outputs": [
    {
     "data": {
      "image/png": "[encoded data removed]",
      "text/plain": [
       "<Figure size 640x480 with 2 Axes>"
      ]
     },
     "metadata": {},
     "output_type": "display_data"
    }
   ],
   "source": [
    "cm_display.plot()\n",
    "plt.show()"
   ]
  },
  {
   "cell_type": "code",
   "execution_count": null,
   "id": "85bd1e0e-1d23-4549-bafa-bba533e7a122",
   "metadata": {},
   "outputs": [],
   "source": []
  },
  {
   "cell_type": "markdown",
   "id": "d69f78a7-fab8-4807-a235-ca78a75358a9",
   "metadata": {},
   "source": [
    "# Save the best model"
   ]
  },
  {
   "cell_type": "code",
   "execution_count": 57,
   "id": "2d5b7de6-1f99-4bf1-ab67-c8f70c8c6384",
   "metadata": {},
   "outputs": [],
   "source": [
    "pickle.dump(clf, open('model.pkl', 'wb'))"
   ]
  },
  {
   "cell_type": "code",
   "execution_count": null,
   "id": "0c14e615-9122-41a5-9b0e-8c20824a07b6",
   "metadata": {},
   "outputs": [],
   "source": []
  },
  {
   "cell_type": "code",
   "execution_count": null,
   "id": "a522a0c1-1283-40a5-bc82-18f9c9156957",
   "metadata": {},
   "outputs": [],
   "source": []
  }
 ],
 "metadata": {
  "kernelspec": {
   "display_name": "Python 3 (ipykernel)",
   "language": "python",
   "name": "python3"
  },
  "language_info": {
   "codemirror_mode": {
    "name": "ipython",
    "version": 3
   },
   "file_extension": ".py",
   "mimetype": "text/x-python",
   "name": "python",
   "nbconvert_exporter": "python",
   "pygments_lexer": "ipython3",
   "version": "3.11.5"
  }
 },
 "nbformat": 4,
 "nbformat_minor": 5
}
